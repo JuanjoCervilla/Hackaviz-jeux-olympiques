{
 "cells": [
  {
   "cell_type": "code",
   "execution_count": null,
   "metadata": {},
   "outputs": [],
   "source": [
    "import pandas as pd\n",
    "import numpy as np\n",
    "import dtale\n",
    "\n",
    "import plotly.express as px\n",
    "import matplotlib.pyplot as plt\n",
    "\n",
    "import calendar\n",
    "import datetime\n",
    "from datetime import datetime\n",
    "\n",
    "\n",
    "import warnings\n",
    "warnings.filterwarnings('ignore')\n"
   ]
  },
  {
   "cell_type": "code",
   "execution_count": null,
   "metadata": {},
   "outputs": [],
   "source": [
    "df_jo = pd.read_csv('./data/paris_2024.csv')\n",
    "df_restau = pd.read_csv('./data/restaurants_proximité.csv')"
   ]
  },
  {
   "cell_type": "code",
   "execution_count": null,
   "metadata": {},
   "outputs": [],
   "source": [
    "df_jo.Enjeu.unique()"
   ]
  },
  {
   "cell_type": "code",
   "execution_count": null,
   "metadata": {},
   "outputs": [],
   "source": [
    "dtale.instances()\n",
    "\n",
    "# using any of the data ids that are printed from the previous command\n",
    "# it will also print the URL of each piece of data you've loaded into D-Tale\n",
    "#dtale.get_instance([data_id]).kill()\n",
    "\n",
    "dtale.show(df_jo, host='localhost')"
   ]
  },
  {
   "cell_type": "code",
   "execution_count": null,
   "metadata": {},
   "outputs": [
    {
     "name": "stdout",
     "output_type": "stream",
     "text": [
      "Exception on /dtale/main/github-markdown-css [GET]\n",
      "Traceback (most recent call last):\n",
      "  File \"c:\\Users\\Juanjo\\anaconda3\\envs\\Finances\\lib\\site-packages\\flask\\app.py\", line 2073, in wsgi_app\n",
      "    response = self.full_dispatch_request()\n",
      "  File \"c:\\Users\\Juanjo\\anaconda3\\envs\\Finances\\lib\\site-packages\\flask\\app.py\", line 1518, in full_dispatch_request\n",
      "    rv = self.handle_user_exception(e)\n",
      "  File \"c:\\Users\\Juanjo\\anaconda3\\envs\\Finances\\lib\\site-packages\\flask\\app.py\", line 1516, in full_dispatch_request\n",
      "    rv = self.dispatch_request()\n",
      "  File \"c:\\Users\\Juanjo\\anaconda3\\envs\\Finances\\lib\\site-packages\\flask\\app.py\", line 1502, in dispatch_request\n",
      "    return self.ensure_sync(self.view_functions[rule.endpoint])(**req.view_args)\n",
      "  File \"c:\\Users\\Juanjo\\anaconda3\\envs\\Finances\\lib\\site-packages\\dtale\\views.py\", line 1238, in view_main\n",
      "    if not global_state.contains(data_id):\n",
      "  File \"c:\\Users\\Juanjo\\anaconda3\\envs\\Finances\\lib\\site-packages\\dtale\\global_state.py\", line 164, in contains\n",
      "    return int(key) in self._data_store\n",
      "ValueError: invalid literal for int() with base 10: 'github-markdown-css'\n"
     ]
    },
    {
     "name": "stderr",
     "output_type": "stream",
     "text": [
      "2024-03-09 14:07:39,274 - ERROR    - Exception on /dtale/main/github-markdown-css [GET]\n",
      "Traceback (most recent call last):\n",
      "  File \"c:\\Users\\Juanjo\\anaconda3\\envs\\Finances\\lib\\site-packages\\flask\\app.py\", line 2073, in wsgi_app\n",
      "    response = self.full_dispatch_request()\n",
      "  File \"c:\\Users\\Juanjo\\anaconda3\\envs\\Finances\\lib\\site-packages\\flask\\app.py\", line 1518, in full_dispatch_request\n",
      "    rv = self.handle_user_exception(e)\n",
      "  File \"c:\\Users\\Juanjo\\anaconda3\\envs\\Finances\\lib\\site-packages\\flask\\app.py\", line 1516, in full_dispatch_request\n",
      "    rv = self.dispatch_request()\n",
      "  File \"c:\\Users\\Juanjo\\anaconda3\\envs\\Finances\\lib\\site-packages\\flask\\app.py\", line 1502, in dispatch_request\n",
      "    return self.ensure_sync(self.view_functions[rule.endpoint])(**req.view_args)\n",
      "  File \"c:\\Users\\Juanjo\\anaconda3\\envs\\Finances\\lib\\site-packages\\dtale\\views.py\", line 1238, in view_main\n",
      "    if not global_state.contains(data_id):\n",
      "  File \"c:\\Users\\Juanjo\\anaconda3\\envs\\Finances\\lib\\site-packages\\dtale\\global_state.py\", line 164, in contains\n",
      "    return int(key) in self._data_store\n",
      "ValueError: invalid literal for int() with base 10: 'github-markdown-css'\n"
     ]
    },
    {
     "name": "stdout",
     "output_type": "stream",
     "text": [
      "Exception occurred while processing request: 'NoneType' object is not iterable\n",
      "Traceback (most recent call last):\n",
      "  File \"c:\\Users\\Juanjo\\anaconda3\\envs\\Finances\\lib\\site-packages\\dtale\\views.py\", line 111, in _handle_exceptions\n",
      "    return func(*args, **kwargs)\n",
      "  File \"c:\\Users\\Juanjo\\anaconda3\\envs\\Finances\\lib\\site-packages\\dtale\\views.py\", line 2541, in get_data\n",
      "    curr_dtypes = [c[\"name\"] for c in global_state.get_dtypes(data_id)]\n",
      "TypeError: 'NoneType' object is not iterable\n"
     ]
    },
    {
     "name": "stderr",
     "output_type": "stream",
     "text": [
      "2024-03-09 14:07:39,280 - ERROR    - Exception occurred while processing request: 'NoneType' object is not iterable\n",
      "Traceback (most recent call last):\n",
      "  File \"c:\\Users\\Juanjo\\anaconda3\\envs\\Finances\\lib\\site-packages\\dtale\\views.py\", line 111, in _handle_exceptions\n",
      "    return func(*args, **kwargs)\n",
      "  File \"c:\\Users\\Juanjo\\anaconda3\\envs\\Finances\\lib\\site-packages\\dtale\\views.py\", line 2541, in get_data\n",
      "    curr_dtypes = [c[\"name\"] for c in global_state.get_dtypes(data_id)]\n",
      "TypeError: 'NoneType' object is not iterable\n"
     ]
    },
    {
     "name": "stdout",
     "output_type": "stream",
     "text": [
      "Exception on /dtale/main/github-markdown-css [GET]\n",
      "Traceback (most recent call last):\n",
      "  File \"c:\\Users\\Juanjo\\anaconda3\\envs\\Finances\\lib\\site-packages\\flask\\app.py\", line 2073, in wsgi_app\n",
      "    response = self.full_dispatch_request()\n",
      "  File \"c:\\Users\\Juanjo\\anaconda3\\envs\\Finances\\lib\\site-packages\\flask\\app.py\", line 1518, in full_dispatch_request\n",
      "    rv = self.handle_user_exception(e)\n",
      "  File \"c:\\Users\\Juanjo\\anaconda3\\envs\\Finances\\lib\\site-packages\\flask\\app.py\", line 1516, in full_dispatch_request\n",
      "    rv = self.dispatch_request()\n",
      "  File \"c:\\Users\\Juanjo\\anaconda3\\envs\\Finances\\lib\\site-packages\\flask\\app.py\", line 1502, in dispatch_request\n",
      "    return self.ensure_sync(self.view_functions[rule.endpoint])(**req.view_args)\n",
      "  File \"c:\\Users\\Juanjo\\anaconda3\\envs\\Finances\\lib\\site-packages\\dtale\\views.py\", line 1238, in view_main\n",
      "    if not global_state.contains(data_id):\n",
      "  File \"c:\\Users\\Juanjo\\anaconda3\\envs\\Finances\\lib\\site-packages\\dtale\\global_state.py\", line 164, in contains\n",
      "    return int(key) in self._data_store\n",
      "ValueError: invalid literal for int() with base 10: 'github-markdown-css'\n"
     ]
    },
    {
     "name": "stderr",
     "output_type": "stream",
     "text": [
      "2024-03-09 14:07:47,950 - ERROR    - Exception on /dtale/main/github-markdown-css [GET]\n",
      "Traceback (most recent call last):\n",
      "  File \"c:\\Users\\Juanjo\\anaconda3\\envs\\Finances\\lib\\site-packages\\flask\\app.py\", line 2073, in wsgi_app\n",
      "    response = self.full_dispatch_request()\n",
      "  File \"c:\\Users\\Juanjo\\anaconda3\\envs\\Finances\\lib\\site-packages\\flask\\app.py\", line 1518, in full_dispatch_request\n",
      "    rv = self.handle_user_exception(e)\n",
      "  File \"c:\\Users\\Juanjo\\anaconda3\\envs\\Finances\\lib\\site-packages\\flask\\app.py\", line 1516, in full_dispatch_request\n",
      "    rv = self.dispatch_request()\n",
      "  File \"c:\\Users\\Juanjo\\anaconda3\\envs\\Finances\\lib\\site-packages\\flask\\app.py\", line 1502, in dispatch_request\n",
      "    return self.ensure_sync(self.view_functions[rule.endpoint])(**req.view_args)\n",
      "  File \"c:\\Users\\Juanjo\\anaconda3\\envs\\Finances\\lib\\site-packages\\dtale\\views.py\", line 1238, in view_main\n",
      "    if not global_state.contains(data_id):\n",
      "  File \"c:\\Users\\Juanjo\\anaconda3\\envs\\Finances\\lib\\site-packages\\dtale\\global_state.py\", line 164, in contains\n",
      "    return int(key) in self._data_store\n",
      "ValueError: invalid literal for int() with base 10: 'github-markdown-css'\n"
     ]
    },
    {
     "name": "stdout",
     "output_type": "stream",
     "text": [
      "Exception on /dtale/main/github-markdown-css [GET]\n",
      "Traceback (most recent call last):\n",
      "  File \"c:\\Users\\Juanjo\\anaconda3\\envs\\Finances\\lib\\site-packages\\flask\\app.py\", line 2073, in wsgi_app\n",
      "    response = self.full_dispatch_request()\n",
      "  File \"c:\\Users\\Juanjo\\anaconda3\\envs\\Finances\\lib\\site-packages\\flask\\app.py\", line 1518, in full_dispatch_request\n",
      "    rv = self.handle_user_exception(e)\n",
      "  File \"c:\\Users\\Juanjo\\anaconda3\\envs\\Finances\\lib\\site-packages\\flask\\app.py\", line 1516, in full_dispatch_request\n",
      "    rv = self.dispatch_request()\n",
      "  File \"c:\\Users\\Juanjo\\anaconda3\\envs\\Finances\\lib\\site-packages\\flask\\app.py\", line 1502, in dispatch_request\n",
      "    return self.ensure_sync(self.view_functions[rule.endpoint])(**req.view_args)\n",
      "  File \"c:\\Users\\Juanjo\\anaconda3\\envs\\Finances\\lib\\site-packages\\dtale\\views.py\", line 1238, in view_main\n",
      "    if not global_state.contains(data_id):\n",
      "  File \"c:\\Users\\Juanjo\\anaconda3\\envs\\Finances\\lib\\site-packages\\dtale\\global_state.py\", line 164, in contains\n",
      "    return int(key) in self._data_store\n",
      "ValueError: invalid literal for int() with base 10: 'github-markdown-css'\n"
     ]
    },
    {
     "name": "stderr",
     "output_type": "stream",
     "text": [
      "2024-03-09 18:39:31,974 - ERROR    - Exception on /dtale/main/github-markdown-css [GET]\n",
      "Traceback (most recent call last):\n",
      "  File \"c:\\Users\\Juanjo\\anaconda3\\envs\\Finances\\lib\\site-packages\\flask\\app.py\", line 2073, in wsgi_app\n",
      "    response = self.full_dispatch_request()\n",
      "  File \"c:\\Users\\Juanjo\\anaconda3\\envs\\Finances\\lib\\site-packages\\flask\\app.py\", line 1518, in full_dispatch_request\n",
      "    rv = self.handle_user_exception(e)\n",
      "  File \"c:\\Users\\Juanjo\\anaconda3\\envs\\Finances\\lib\\site-packages\\flask\\app.py\", line 1516, in full_dispatch_request\n",
      "    rv = self.dispatch_request()\n",
      "  File \"c:\\Users\\Juanjo\\anaconda3\\envs\\Finances\\lib\\site-packages\\flask\\app.py\", line 1502, in dispatch_request\n",
      "    return self.ensure_sync(self.view_functions[rule.endpoint])(**req.view_args)\n",
      "  File \"c:\\Users\\Juanjo\\anaconda3\\envs\\Finances\\lib\\site-packages\\dtale\\views.py\", line 1238, in view_main\n",
      "    if not global_state.contains(data_id):\n",
      "  File \"c:\\Users\\Juanjo\\anaconda3\\envs\\Finances\\lib\\site-packages\\dtale\\global_state.py\", line 164, in contains\n",
      "    return int(key) in self._data_store\n",
      "ValueError: invalid literal for int() with base 10: 'github-markdown-css'\n"
     ]
    }
   ],
   "source": [
    "dtale.instances()\n",
    "\n",
    "# using any of the data ids that are printed from the previous command\n",
    "# it will also print the URL of each piece of data you've loaded into D-Tale\n",
    "#dtale.get_instance([data_id]).kill()\n",
    "\n",
    "dtale.show(df_restau, host='localhost')"
   ]
  },
  {
   "cell_type": "code",
   "execution_count": null,
   "metadata": {},
   "outputs": [],
   "source": []
  }
 ],
 "metadata": {
  "kernelspec": {
   "display_name": "Python 3",
   "language": "python",
   "name": "python3"
  },
  "language_info": {
   "codemirror_mode": {
    "name": "ipython",
    "version": 3
   },
   "file_extension": ".py",
   "mimetype": "text/x-python",
   "name": "python",
   "nbconvert_exporter": "python",
   "pygments_lexer": "ipython3",
   "version": "3.10.9"
  }
 },
 "nbformat": 4,
 "nbformat_minor": 2
}
