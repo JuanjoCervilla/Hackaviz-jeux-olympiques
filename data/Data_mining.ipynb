{
 "cells": [
  {
   "cell_type": "code",
   "execution_count": 15,
   "metadata": {},
   "outputs": [],
   "source": [
    "import pandas as pd\n",
    "import numpy as np\n",
    "\n",
    "import plotly.express as px\n",
    "import matplotlib.pyplot as plt\n",
    "\n",
    "import calendar\n",
    "import datetime\n",
    "from datetime import datetime as dt\n",
    "\n",
    "import warnings\n",
    "warnings.filterwarnings('ignore')"
   ]
  },
  {
   "cell_type": "code",
   "execution_count": 16,
   "metadata": {},
   "outputs": [],
   "source": [
    "def format_time(time_string):\n",
    "    return time_string[:5]"
   ]
  },
  {
   "cell_type": "code",
   "execution_count": 17,
   "metadata": {},
   "outputs": [],
   "source": [
    "df_jo = pd.read_csv('./paris_2024.csv')\n",
    "df_restau = pd.read_csv('./restaurants_proximité.csv')"
   ]
  },
  {
   "cell_type": "code",
   "execution_count": 18,
   "metadata": {},
   "outputs": [],
   "source": [
    "df_jo['Épreuve'].fillna(df_jo['Discipline'], inplace=True)\n",
    "df_jo['Phase'].fillna(df_jo['Enjeu'] + ' de ' + df_jo['Épreuve'], inplace=True)"
   ]
  },
  {
   "cell_type": "code",
   "execution_count": 19,
   "metadata": {},
   "outputs": [],
   "source": [
    "df_jo[['Date_Début', 'Heure_Début']] = df_jo['Début'].str.split('T', expand=True)\n",
    "df_jo['Heure_Début'] = df_jo['Heure_Début'].apply(format_time)\n",
    "df_jo.drop(columns=['Début'], inplace=True)\n",
    "\n",
    "df_jo[['Date_Fin', 'Heure_Fin']] = df_jo['Fin'].str.split('T', expand=True)\n",
    "df_jo['Heure_Fin'] = df_jo['Heure_Fin'].apply(format_time)\n",
    "df_jo.drop(columns=['Fin'], inplace=True)"
   ]
  },
  {
   "cell_type": "code",
   "execution_count": 20,
   "metadata": {},
   "outputs": [],
   "source": [
    "df_jo['Date_Début'] = pd.to_datetime(df_jo['Date_Début'])\n",
    "df_jo['Date_Début'] = df_jo['Date_Début'].dt.strftime('%d-%m-%Y')\n",
    "\n",
    "df_jo['Date_Fin'] = pd.to_datetime(df_jo['Date_Fin'])\n",
    "df_jo['Date_Fin'] = df_jo['Date_Fin'].dt.strftime('%d-%m-%Y')"
   ]
  },
  {
   "cell_type": "code",
   "execution_count": 23,
   "metadata": {},
   "outputs": [
    {
     "data": {
      "text/plain": [
       "'26-07-2024'"
      ]
     },
     "execution_count": 23,
     "metadata": {},
     "output_type": "execute_result"
    }
   ],
   "source": [
    "df_jo['Date_Fin'][0]"
   ]
  },
  {
   "cell_type": "code",
   "execution_count": 9,
   "metadata": {},
   "outputs": [
    {
     "data": {
      "text/plain": [
       "Index(['Jeux', 'Discipline', 'Épreuve', 'Phase', 'Genre', 'Lieu', 'Session',\n",
       "       'latitude', 'longitude', 'ville', 'capacité', 'Enjeu',\n",
       "       'Catégorie_First', 'Catégorie_A', 'Catégorie_B', 'Catégorie_C',\n",
       "       'Catégorie_D', 'Catégorie_E+', 'Catégorie_E', 'Catégorie_First_PFR',\n",
       "       'Catégorie_A_PFR', 'Catégorie_B_PFR', 'Date_Début', 'Heure_Début',\n",
       "       'Date_Fin', 'Heure_Fin'],\n",
       "      dtype='object')"
      ]
     },
     "execution_count": 9,
     "metadata": {},
     "output_type": "execute_result"
    }
   ],
   "source": [
    "df_jo.columns"
   ]
  },
  {
   "cell_type": "code",
   "execution_count": 14,
   "metadata": {},
   "outputs": [
    {
     "data": {
      "text/plain": [
       "'11-08-2024'"
      ]
     },
     "execution_count": 14,
     "metadata": {},
     "output_type": "execute_result"
    }
   ],
   "source": [
    "df_jo[df_jo['Discipline'] == 'Athlétisme']['Date_Début'].max()"
   ]
  },
  {
   "cell_type": "code",
   "execution_count": 118,
   "metadata": {},
   "outputs": [
    {
     "data": {
      "text/plain": [
       "array(['Cérémonie', 'Athlétisme', 'Badminton', 'Basketball 3x3',\n",
       "       'Beach Volleyball', 'Gymnastique rythmique', 'Judo', 'Lutte',\n",
       "       'Natation', 'Natation artistique', 'Sports équestres', 'Tennis',\n",
       "       'Tennis de table', 'Tir', \"Tir à l'arc\", 'Triathlon', 'Voile',\n",
       "       'Basket Fauteuil', 'Boccia', 'Para Athlétisme', 'Para Aviron',\n",
       "       'Para Badminton', 'para cyclisme sur piste',\n",
       "       'Para cyclisme sur route', 'Para équitation', 'Para Natation',\n",
       "       'Para Tennis de Table', 'Para Tir à l’arc', 'Para Tir sportif',\n",
       "       'rugby fauteuil', 'Tennis fauteuil'], dtype=object)"
      ]
     },
     "execution_count": 118,
     "metadata": {},
     "output_type": "execute_result"
    }
   ],
   "source": [
    "df_jo[df_jo['Genre'] == 'Mixte'].Discipline.unique()"
   ]
  },
  {
   "cell_type": "code",
   "execution_count": 107,
   "metadata": {},
   "outputs": [],
   "source": [
    "df_jo.to_csv('paris_2024_traite.csv')"
   ]
  },
  {
   "cell_type": "code",
   "execution_count": 105,
   "metadata": {},
   "outputs": [
    {
     "data": {
      "text/html": [
       "<div>\n",
       "<style scoped>\n",
       "    .dataframe tbody tr th:only-of-type {\n",
       "        vertical-align: middle;\n",
       "    }\n",
       "\n",
       "    .dataframe tbody tr th {\n",
       "        vertical-align: top;\n",
       "    }\n",
       "\n",
       "    .dataframe thead th {\n",
       "        text-align: right;\n",
       "    }\n",
       "</style>\n",
       "<table border=\"1\" class=\"dataframe\">\n",
       "  <thead>\n",
       "    <tr style=\"text-align: right;\">\n",
       "      <th></th>\n",
       "      <th>Etablissement</th>\n",
       "      <th>création</th>\n",
       "      <th>premiere_activité</th>\n",
       "      <th>adresse</th>\n",
       "      <th>Type</th>\n",
       "      <th>latitude</th>\n",
       "      <th>longitude</th>\n",
       "      <th>distance</th>\n",
       "      <th>Lieu</th>\n",
       "      <th>ville</th>\n",
       "      <th>capacité</th>\n",
       "    </tr>\n",
       "  </thead>\n",
       "  <tbody>\n",
       "    <tr>\n",
       "      <th>0</th>\n",
       "      <td>ARUN</td>\n",
       "      <td>2015-09-01</td>\n",
       "      <td>2015-09-01</td>\n",
       "      <td>184 Avenue du Président Wilson 93210 Saint-Denis</td>\n",
       "      <td>Restauration de type rapide</td>\n",
       "      <td>48.912439</td>\n",
       "      <td>2.358400</td>\n",
       "      <td>1333</td>\n",
       "      <td>Stade de France</td>\n",
       "      <td>Saint-Denis (93)</td>\n",
       "      <td>77083.0</td>\n",
       "    </tr>\n",
       "    <tr>\n",
       "      <th>1</th>\n",
       "      <td>MANGOSTEEN</td>\n",
       "      <td>2023-01-10</td>\n",
       "      <td>2023-01-10</td>\n",
       "      <td>5 Rue Pleyel 93200 Saint-Denis</td>\n",
       "      <td>Restauration de type rapide</td>\n",
       "      <td>48.919501</td>\n",
       "      <td>2.344914</td>\n",
       "      <td>1223</td>\n",
       "      <td>Stade de France</td>\n",
       "      <td>Saint-Denis (93)</td>\n",
       "      <td>77083.0</td>\n",
       "    </tr>\n",
       "    <tr>\n",
       "      <th>2</th>\n",
       "      <td>KENTARINE</td>\n",
       "      <td>2021-05-25</td>\n",
       "      <td>2021-05-25</td>\n",
       "      <td>18 Rue Jean-philippe Rameau 93200 Saint-Denis</td>\n",
       "      <td>Restauration de type rapide</td>\n",
       "      <td>48.920952</td>\n",
       "      <td>2.351985</td>\n",
       "      <td>693</td>\n",
       "      <td>Stade de France</td>\n",
       "      <td>Saint-Denis (93)</td>\n",
       "      <td>77083.0</td>\n",
       "    </tr>\n",
       "    <tr>\n",
       "      <th>3</th>\n",
       "      <td>CHENG DA</td>\n",
       "      <td>2016-06-15</td>\n",
       "      <td>2016-09-14</td>\n",
       "      <td>4 Place des Pianos 93200 Saint-Denis</td>\n",
       "      <td>Restauration traditionnelle</td>\n",
       "      <td>48.919803</td>\n",
       "      <td>2.343168</td>\n",
       "      <td>1326</td>\n",
       "      <td>Stade de France</td>\n",
       "      <td>Saint-Denis (93)</td>\n",
       "      <td>77083.0</td>\n",
       "    </tr>\n",
       "    <tr>\n",
       "      <th>4</th>\n",
       "      <td>RESTAURANT BLESSING</td>\n",
       "      <td>2018-11-08</td>\n",
       "      <td>2018-11-08</td>\n",
       "      <td>252 Avenue du Président Wilson 93210 Saint-Denis</td>\n",
       "      <td>Restauration traditionnelle</td>\n",
       "      <td>48.917180</td>\n",
       "      <td>2.358018</td>\n",
       "      <td>813</td>\n",
       "      <td>Stade de France</td>\n",
       "      <td>Saint-Denis (93)</td>\n",
       "      <td>77083.0</td>\n",
       "    </tr>\n",
       "    <tr>\n",
       "      <th>...</th>\n",
       "      <td>...</td>\n",
       "      <td>...</td>\n",
       "      <td>...</td>\n",
       "      <td>...</td>\n",
       "      <td>...</td>\n",
       "      <td>...</td>\n",
       "      <td>...</td>\n",
       "      <td>...</td>\n",
       "      <td>...</td>\n",
       "      <td>...</td>\n",
       "      <td>...</td>\n",
       "    </tr>\n",
       "    <tr>\n",
       "      <th>30381</th>\n",
       "      <td>CAFE JEAN JAURES</td>\n",
       "      <td>2012-10-04</td>\n",
       "      <td>2012-11-21</td>\n",
       "      <td>171 Avenue Jean Jaurés 93370 Montfermeil</td>\n",
       "      <td>Débits de boissons</td>\n",
       "      <td>48.898421</td>\n",
       "      <td>2.551308</td>\n",
       "      <td>1466</td>\n",
       "      <td>Clichy-sous-Bois</td>\n",
       "      <td>Clichy-sous-Bois (93)</td>\n",
       "      <td>NaN</td>\n",
       "    </tr>\n",
       "    <tr>\n",
       "      <th>30382</th>\n",
       "      <td>LA PIZZA NOMADE</td>\n",
       "      <td>2015-04-30</td>\n",
       "      <td>2015-04-30</td>\n",
       "      <td>12 Rue du Chalet 93370 Montfermeil</td>\n",
       "      <td>Restauration de type rapide</td>\n",
       "      <td>48.900311</td>\n",
       "      <td>2.557980</td>\n",
       "      <td>1493</td>\n",
       "      <td>Clichy-sous-Bois</td>\n",
       "      <td>Clichy-sous-Bois (93)</td>\n",
       "      <td>NaN</td>\n",
       "    </tr>\n",
       "    <tr>\n",
       "      <th>30383</th>\n",
       "      <td>MOUSTACHE</td>\n",
       "      <td>2022-10-01</td>\n",
       "      <td>2023-06-02</td>\n",
       "      <td>184bis Avenue Jean Jaurés 93370 Montfermeil</td>\n",
       "      <td>Restauration traditionnelle</td>\n",
       "      <td>48.898714</td>\n",
       "      <td>2.550073</td>\n",
       "      <td>1412</td>\n",
       "      <td>Clichy-sous-Bois</td>\n",
       "      <td>Clichy-sous-Bois (93)</td>\n",
       "      <td>NaN</td>\n",
       "    </tr>\n",
       "    <tr>\n",
       "      <th>30384</th>\n",
       "      <td>KOUDJA</td>\n",
       "      <td>2020-03-01</td>\n",
       "      <td>2020-03-01</td>\n",
       "      <td>244 Allée de Montfermeil 93220 Gagny</td>\n",
       "      <td>Restauration de type rapide</td>\n",
       "      <td>48.898919</td>\n",
       "      <td>2.545163</td>\n",
       "      <td>1357</td>\n",
       "      <td>Clichy-sous-Bois</td>\n",
       "      <td>Clichy-sous-Bois (93)</td>\n",
       "      <td>NaN</td>\n",
       "    </tr>\n",
       "    <tr>\n",
       "      <th>30385</th>\n",
       "      <td>KOUDJA</td>\n",
       "      <td>2023-07-17</td>\n",
       "      <td>2023-07-17</td>\n",
       "      <td>186 Avenue Jean Jaurés 93370 Montfermeil</td>\n",
       "      <td>Restauration de type rapide</td>\n",
       "      <td>48.898819</td>\n",
       "      <td>2.548570</td>\n",
       "      <td>1381</td>\n",
       "      <td>Clichy-sous-Bois</td>\n",
       "      <td>Clichy-sous-Bois (93)</td>\n",
       "      <td>NaN</td>\n",
       "    </tr>\n",
       "  </tbody>\n",
       "</table>\n",
       "<p>30386 rows × 11 columns</p>\n",
       "</div>"
      ],
      "text/plain": [
       "             Etablissement    création premiere_activité  \\\n",
       "0                     ARUN  2015-09-01        2015-09-01   \n",
       "1               MANGOSTEEN  2023-01-10        2023-01-10   \n",
       "2                KENTARINE  2021-05-25        2021-05-25   \n",
       "3                 CHENG DA  2016-06-15        2016-09-14   \n",
       "4      RESTAURANT BLESSING  2018-11-08        2018-11-08   \n",
       "...                    ...         ...               ...   \n",
       "30381     CAFE JEAN JAURES  2012-10-04        2012-11-21   \n",
       "30382      LA PIZZA NOMADE  2015-04-30        2015-04-30   \n",
       "30383            MOUSTACHE  2022-10-01        2023-06-02   \n",
       "30384               KOUDJA  2020-03-01        2020-03-01   \n",
       "30385               KOUDJA  2023-07-17        2023-07-17   \n",
       "\n",
       "                                                adresse  \\\n",
       "0      184 Avenue du Président Wilson 93210 Saint-Denis   \n",
       "1                        5 Rue Pleyel 93200 Saint-Denis   \n",
       "2         18 Rue Jean-philippe Rameau 93200 Saint-Denis   \n",
       "3                  4 Place des Pianos 93200 Saint-Denis   \n",
       "4      252 Avenue du Président Wilson 93210 Saint-Denis   \n",
       "...                                                 ...   \n",
       "30381          171 Avenue Jean Jaurés 93370 Montfermeil   \n",
       "30382                12 Rue du Chalet 93370 Montfermeil   \n",
       "30383       184bis Avenue Jean Jaurés 93370 Montfermeil   \n",
       "30384              244 Allée de Montfermeil 93220 Gagny   \n",
       "30385          186 Avenue Jean Jaurés 93370 Montfermeil   \n",
       "\n",
       "                              Type   latitude  longitude  distance  \\\n",
       "0      Restauration de type rapide  48.912439   2.358400      1333   \n",
       "1      Restauration de type rapide  48.919501   2.344914      1223   \n",
       "2      Restauration de type rapide  48.920952   2.351985       693   \n",
       "3      Restauration traditionnelle  48.919803   2.343168      1326   \n",
       "4      Restauration traditionnelle  48.917180   2.358018       813   \n",
       "...                            ...        ...        ...       ...   \n",
       "30381           Débits de boissons  48.898421   2.551308      1466   \n",
       "30382  Restauration de type rapide  48.900311   2.557980      1493   \n",
       "30383  Restauration traditionnelle  48.898714   2.550073      1412   \n",
       "30384  Restauration de type rapide  48.898919   2.545163      1357   \n",
       "30385  Restauration de type rapide  48.898819   2.548570      1381   \n",
       "\n",
       "                   Lieu                  ville  capacité  \n",
       "0       Stade de France       Saint-Denis (93)   77083.0  \n",
       "1       Stade de France       Saint-Denis (93)   77083.0  \n",
       "2       Stade de France       Saint-Denis (93)   77083.0  \n",
       "3       Stade de France       Saint-Denis (93)   77083.0  \n",
       "4       Stade de France       Saint-Denis (93)   77083.0  \n",
       "...                 ...                    ...       ...  \n",
       "30381  Clichy-sous-Bois  Clichy-sous-Bois (93)       NaN  \n",
       "30382  Clichy-sous-Bois  Clichy-sous-Bois (93)       NaN  \n",
       "30383  Clichy-sous-Bois  Clichy-sous-Bois (93)       NaN  \n",
       "30384  Clichy-sous-Bois  Clichy-sous-Bois (93)       NaN  \n",
       "30385  Clichy-sous-Bois  Clichy-sous-Bois (93)       NaN  \n",
       "\n",
       "[30386 rows x 11 columns]"
      ]
     },
     "execution_count": 105,
     "metadata": {},
     "output_type": "execute_result"
    }
   ],
   "source": [
    "df_restau"
   ]
  },
  {
   "cell_type": "code",
   "execution_count": null,
   "metadata": {},
   "outputs": [],
   "source": []
  },
  {
   "cell_type": "code",
   "execution_count": null,
   "metadata": {},
   "outputs": [
    {
     "name": "stdout",
     "output_type": "stream",
     "text": [
      "To gain access to an instance object simply pass the value from 'ID' to dtale.get_instance(ID)\n",
      "\n",
      "ID Name                                 URL\n",
      " 1      http://localhost:40000/dtale/main/1\n",
      "        http://localhost:40000/dtale/main/1\n",
      " 2      http://localhost:40000/dtale/main/2\n",
      "        http://localhost:40000/dtale/main/2\n"
     ]
    },
    {
     "data": {
      "text/html": [
       "\n",
       "        <iframe\n",
       "            width=\"100%\"\n",
       "            height=\"475\"\n",
       "            src=\"http://localhost:40000/dtale/iframe/3\"\n",
       "            frameborder=\"0\"\n",
       "            allowfullscreen\n",
       "            \n",
       "        ></iframe>\n",
       "        "
      ],
      "text/plain": [
       "<IPython.lib.display.IFrame at 0x1d7c2b36650>"
      ]
     },
     "metadata": {},
     "output_type": "display_data"
    },
    {
     "data": {
      "text/plain": []
     },
     "execution_count": 106,
     "metadata": {},
     "output_type": "execute_result"
    },
    {
     "name": "stdout",
     "output_type": "stream",
     "text": [
      "Executing shutdown due to inactivity...\n",
      "Executing shutdown due to inactivity...\n"
     ]
    },
    {
     "name": "stderr",
     "output_type": "stream",
     "text": [
      "2024-03-09 19:56:04,325 - INFO     - Executing shutdown due to inactivity...\n"
     ]
    },
    {
     "name": "stdout",
     "output_type": "stream",
     "text": [
      "Executing shutdown...\n",
      "Executing shutdown...\n"
     ]
    },
    {
     "name": "stderr",
     "output_type": "stream",
     "text": [
      "2024-03-09 19:56:08,661 - INFO     - Executing shutdown...\n"
     ]
    },
    {
     "name": "stdout",
     "output_type": "stream",
     "text": [
      "Exception on /shutdown [GET]\n",
      "Traceback (most recent call last):\n",
      "  File \"c:\\Users\\Juanjo\\anaconda3\\envs\\Finances\\lib\\site-packages\\flask\\app.py\", line 2073, in wsgi_app\n",
      "    response = self.full_dispatch_request()\n",
      "  File \"c:\\Users\\Juanjo\\anaconda3\\envs\\Finances\\lib\\site-packages\\flask\\app.py\", line 1518, in full_dispatch_request\n",
      "    rv = self.handle_user_exception(e)\n",
      "  File \"c:\\Users\\Juanjo\\anaconda3\\envs\\Finances\\lib\\site-packages\\flask\\app.py\", line 1516, in full_dispatch_request\n",
      "    rv = self.dispatch_request()\n",
      "  File \"c:\\Users\\Juanjo\\anaconda3\\envs\\Finances\\lib\\site-packages\\flask\\app.py\", line 1502, in dispatch_request\n",
      "    return self.ensure_sync(self.view_functions[rule.endpoint])(**req.view_args)\n",
      "  File \"c:\\Users\\Juanjo\\anaconda3\\envs\\Finances\\lib\\site-packages\\dtale\\app.py\", line 435, in shutdown\n",
      "    shutdown_server()\n",
      "  File \"c:\\Users\\Juanjo\\anaconda3\\envs\\Finances\\lib\\site-packages\\dtale\\app.py\", line 421, in shutdown_server\n",
      "    raise RuntimeError(\"Not running with the Werkzeug Server\")\n",
      "RuntimeError: Not running with the Werkzeug Server\n",
      "Exception on /shutdown [GET]\n",
      "Traceback (most recent call last):\n",
      "  File \"c:\\Users\\Juanjo\\anaconda3\\envs\\Finances\\lib\\site-packages\\flask\\app.py\", line 2073, in wsgi_app\n",
      "    response = self.full_dispatch_request()\n",
      "  File \"c:\\Users\\Juanjo\\anaconda3\\envs\\Finances\\lib\\site-packages\\flask\\app.py\", line 1518, in full_dispatch_request\n",
      "    rv = self.handle_user_exception(e)\n",
      "  File \"c:\\Users\\Juanjo\\anaconda3\\envs\\Finances\\lib\\site-packages\\flask\\app.py\", line 1516, in full_dispatch_request\n",
      "    rv = self.dispatch_request()\n",
      "  File \"c:\\Users\\Juanjo\\anaconda3\\envs\\Finances\\lib\\site-packages\\flask\\app.py\", line 1502, in dispatch_request\n",
      "    return self.ensure_sync(self.view_functions[rule.endpoint])(**req.view_args)\n",
      "  File \"c:\\Users\\Juanjo\\anaconda3\\envs\\Finances\\lib\\site-packages\\dtale\\app.py\", line 435, in shutdown\n",
      "    shutdown_server()\n",
      "  File \"c:\\Users\\Juanjo\\anaconda3\\envs\\Finances\\lib\\site-packages\\dtale\\app.py\", line 421, in shutdown_server\n",
      "    raise RuntimeError(\"Not running with the Werkzeug Server\")\n",
      "RuntimeError: Not running with the Werkzeug Server\n"
     ]
    },
    {
     "name": "stderr",
     "output_type": "stream",
     "text": [
      "2024-03-09 19:56:08,673 - ERROR    - Exception on /shutdown [GET]\n",
      "Traceback (most recent call last):\n",
      "  File \"c:\\Users\\Juanjo\\anaconda3\\envs\\Finances\\lib\\site-packages\\flask\\app.py\", line 2073, in wsgi_app\n",
      "    response = self.full_dispatch_request()\n",
      "  File \"c:\\Users\\Juanjo\\anaconda3\\envs\\Finances\\lib\\site-packages\\flask\\app.py\", line 1518, in full_dispatch_request\n",
      "    rv = self.handle_user_exception(e)\n",
      "  File \"c:\\Users\\Juanjo\\anaconda3\\envs\\Finances\\lib\\site-packages\\flask\\app.py\", line 1516, in full_dispatch_request\n",
      "    rv = self.dispatch_request()\n",
      "  File \"c:\\Users\\Juanjo\\anaconda3\\envs\\Finances\\lib\\site-packages\\flask\\app.py\", line 1502, in dispatch_request\n",
      "    return self.ensure_sync(self.view_functions[rule.endpoint])(**req.view_args)\n",
      "  File \"c:\\Users\\Juanjo\\anaconda3\\envs\\Finances\\lib\\site-packages\\dtale\\app.py\", line 435, in shutdown\n",
      "    shutdown_server()\n",
      "  File \"c:\\Users\\Juanjo\\anaconda3\\envs\\Finances\\lib\\site-packages\\dtale\\app.py\", line 421, in shutdown_server\n",
      "    raise RuntimeError(\"Not running with the Werkzeug Server\")\n",
      "RuntimeError: Not running with the Werkzeug Server\n"
     ]
    }
   ],
   "source": [
    "\n",
    "import dtale\n",
    "\n",
    "dtale.instances()\n",
    "\n",
    "dtale.show(df_restau, host='localhost')"
   ]
  },
  {
   "cell_type": "code",
   "execution_count": null,
   "metadata": {},
   "outputs": [],
   "source": []
  }
 ],
 "metadata": {
  "kernelspec": {
   "display_name": "Finances",
   "language": "python",
   "name": "python3"
  },
  "language_info": {
   "codemirror_mode": {
    "name": "ipython",
    "version": 3
   },
   "file_extension": ".py",
   "mimetype": "text/x-python",
   "name": "python",
   "nbconvert_exporter": "python",
   "pygments_lexer": "ipython3",
   "version": "3.10.9"
  }
 },
 "nbformat": 4,
 "nbformat_minor": 2
}
